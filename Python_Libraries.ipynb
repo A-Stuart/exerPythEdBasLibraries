{
 "cells": [
  {
   "cell_type": "markdown",
   "id": "4edd9ef6",
   "metadata": {
    "deletable": false,
    "editable": false,
    "nbgrader": {
     "cell_type": "markdown",
     "checksum": "d6e5adc30889334a5759d59e81f05081",
     "grade": false,
     "grade_id": "cell-6b872878cb1c65a5",
     "locked": true,
     "schema_version": 3,
     "solution": false,
     "task": false
    }
   },
   "source": [
    "### Instructions\n",
    "\n",
    "* Sign up for the free course on Educative, __Learn Python 3 From Scratch__\n",
    "* https://www.educative.io/courses/learn-python-3-from-scratch\n",
    "* Complete the programming exercises below as you go through the course.\n",
    "* Delete or comment out the line of code in each cell which says `raise NotImplementedError()` and replace it with your own."
   ]
  },
  {
   "cell_type": "markdown",
   "id": "38089d4c",
   "metadata": {
    "deletable": false,
    "editable": false,
    "nbgrader": {
     "cell_type": "markdown",
     "checksum": "d3d877524bea85b46023332eca15b049",
     "grade": false,
     "grade_id": "cell-21a783646adf08b9",
     "locked": true,
     "schema_version": 3,
     "solution": false,
     "task": false
    }
   },
   "source": [
    "# Educative - Libraries\n",
    "\n",
    "https://www.educative.io/courses/learn-python-3-from-scratch/RLQYXWpMZvO"
   ]
  },
  {
   "cell_type": "markdown",
   "id": "7eade948",
   "metadata": {
    "deletable": false,
    "editable": false,
    "nbgrader": {
     "cell_type": "markdown",
     "checksum": "35d8256bc9e5bb587fe94afe6f10e247",
     "grade": false,
     "grade_id": "cell-8c7c44d0e09b8ea2",
     "locked": true,
     "schema_version": 3,
     "solution": false,
     "task": false
    }
   },
   "source": [
    "### Exercises"
   ]
  },
  {
   "cell_type": "markdown",
   "id": "819c34c2",
   "metadata": {
    "deletable": false,
    "editable": false,
    "nbgrader": {
     "cell_type": "markdown",
     "checksum": "40cddd34bf9988432ef8c7140b9f8b1d",
     "grade": false,
     "grade_id": "cell-d27e3a7608b4decc",
     "locked": true,
     "schema_version": 3,
     "solution": false,
     "task": false
    }
   },
   "source": [
    "Write code in the cell below.\n",
    "* Import the datetime module.\n",
    "* Create a variable called `date_today` and assign it the current date.\n",
    "* Print `date_today`\n",
    "* Create a variable called `time_today` and assign it the current time with the format `%H:%M:%S`.\n",
    "* Print `time_today`"
   ]
  },
  {
   "cell_type": "code",
   "execution_count": 1,
   "id": "865fa4ed",
   "metadata": {
    "deletable": false,
    "nbgrader": {
     "cell_type": "code",
     "checksum": "f66c9adcdb6b26681ab80dbd01e72b6e",
     "grade": true,
     "grade_id": "cell-d8bc547ac57a0414",
     "locked": false,
     "points": 1,
     "schema_version": 3,
     "solution": true,
     "task": false
    }
   },
   "outputs": [
    {
     "name": "stdout",
     "output_type": "stream",
     "text": [
      "2022-09-11\n",
      "08:10:40\n"
     ]
    }
   ],
   "source": [
    "# Importing modules at the beginning of the program is a good practice\n",
    "\n",
    "# YOUR CODE HERE\n",
    "import datetime\n",
    "\n",
    "date_today = datetime.date.today()\n",
    "print (date_today)\n",
    "\n",
    "time_today = datetime.datetime.now()\n",
    "print (time_today.strftime(\"%H:%M:%S\"))"
   ]
  },
  {
   "cell_type": "markdown",
   "id": "cc1e54d0",
   "metadata": {
    "deletable": false,
    "editable": false,
    "nbgrader": {
     "cell_type": "markdown",
     "checksum": "0023e1fe470fd9280f7012d012586552",
     "grade": false,
     "grade_id": "cell-542a79009ba51d21",
     "locked": true,
     "schema_version": 3,
     "solution": false,
     "task": false
    }
   },
   "source": [
    "Write code in the cell below.\n",
    "* Import the date class from the datetime module.\n",
    "* Using the date class, create a variable called `date_today` and assign it the current date.\n",
    "* Print `date_today`"
   ]
  },
  {
   "cell_type": "code",
   "execution_count": 2,
   "id": "c7edc1db",
   "metadata": {
    "deletable": false,
    "nbgrader": {
     "cell_type": "code",
     "checksum": "7dc84c26eba2291718c34d26f7585e23",
     "grade": true,
     "grade_id": "cell-28bc4e662db73470",
     "locked": false,
     "points": 1,
     "schema_version": 3,
     "solution": true,
     "task": false
    }
   },
   "outputs": [
    {
     "name": "stdout",
     "output_type": "stream",
     "text": [
      "2022-09-11\n"
     ]
    }
   ],
   "source": [
    "\n",
    "# YOUR CODE HERE\n",
    "from datetime import date\n",
    "\n",
    "date_today = date.today()\n",
    "print(date_today)"
   ]
  },
  {
   "cell_type": "markdown",
   "id": "21b160fc",
   "metadata": {
    "deletable": false,
    "editable": false,
    "nbgrader": {
     "cell_type": "markdown",
     "checksum": "c619f7b99985acb2e02380b1539390d0",
     "grade": false,
     "grade_id": "cell-2916b0d70098ba84",
     "locked": true,
     "schema_version": 3,
     "solution": false,
     "task": false
    }
   },
   "source": [
    "Write code in the cell below.\n",
    "* Import the datetime module and name it `dt`.\n",
    "* Create a variable called `date_today` and assign it the current date.\n",
    "* Print `date_today`\n",
    "* Create a variable called `time_today` and assign it the current time with the format `%H:%M:%S`.\n",
    "* Print `time_today`"
   ]
  },
  {
   "cell_type": "code",
   "execution_count": 3,
   "id": "acdeb327",
   "metadata": {
    "deletable": false,
    "nbgrader": {
     "cell_type": "code",
     "checksum": "c8992ce346fb1715564d8bf3aa53e7fc",
     "grade": true,
     "grade_id": "cell-0a0222e82974cc6d",
     "locked": false,
     "points": 1,
     "schema_version": 3,
     "solution": true,
     "task": false
    }
   },
   "outputs": [
    {
     "name": "stdout",
     "output_type": "stream",
     "text": [
      "2022-09-11\n",
      "08:23:26\n"
     ]
    }
   ],
   "source": [
    "\n",
    "# YOUR CODE HERE\n",
    "import datetime as dt\n",
    "date_today = dt.date.today()\n",
    "print(date_today)\n",
    "\n",
    "time_today = dt.datetime.now()\n",
    "print(time_today.strftime(\"%H:%M:%S\"))"
   ]
  },
  {
   "cell_type": "markdown",
   "id": "59c11dff",
   "metadata": {
    "deletable": false,
    "editable": false,
    "nbgrader": {
     "cell_type": "markdown",
     "checksum": "8f6e9f58ba72898cb06ca76505acd139",
     "grade": false,
     "grade_id": "cell-b0fb313c0e670468",
     "locked": true,
     "schema_version": 3,
     "solution": false,
     "task": false
    }
   },
   "source": [
    "Google the term `python standard library` to find the latest documentation on the Python Standard Library. Provide a short description of the purpose of some of the common modules listed below. (The short description on the main documentation page for the Python Standard Library is sufficient. I'm only trying to introduce you to the standard library and where you can find additional information on particular modules. You don't need to do any further reading for now.)\n",
    "\n",
    "\n",
    "* csv -\n",
    "* datetime -\n",
    "* math -\n",
    "* os -\n",
    "* re -\n",
    "* string -\n",
    "* unittest -"
   ]
  },
  {
   "cell_type": "markdown",
   "id": "a55f7bc3",
   "metadata": {
    "deletable": false,
    "nbgrader": {
     "cell_type": "markdown",
     "checksum": "7629b21d87d429c896a6f67fafaaf672",
     "grade": true,
     "grade_id": "cell-dbe058708628b684",
     "locked": false,
     "points": 3,
     "schema_version": 3,
     "solution": true,
     "task": false
    }
   },
   "source": [
    "YOUR ANSWER HERE\n",
    "\n",
    "Answers come from the documentation page for the Python Standard Library: https://docs.python.org/3/library/\n",
    "\n",
    "* csv -\n",
    "The csv module implements classes to read and write tabular data in CSV format. It allows programmers to say, “write this data in the format preferred by Excel,” or “read data from this file which was generated by Excel,” without knowing the precise details of the CSV format used by Excel. Programmers can also describe the CSV formats understood by other applications or define their own special-purpose CSV formats.\n",
    "\n",
    "* datetime -\n",
    "The datetime module supplies classes for manipulating dates and times.\n",
    "\n",
    "While date and time arithmetic is supported, the focus of the implementation is on efficient attribute extraction for output formatting and manipulation.\n",
    "\n",
    "* math -\n",
    "This module provides access to the mathematical functions defined by the C standard.\n",
    "\n",
    "These functions cannot be used with complex numbers; use the functions of the same name from the cmath module if you require support for complex numbers. The distinction between functions which support complex numbers and those which don’t is made since most users do not want to learn quite as much mathematics as required to understand complex numbers. Receiving an exception instead of a complex result allows earlier detection of the unexpected complex number used as a parameter, so that the programmer can determine how and why it was generated in the first place.\n",
    " \n",
    " Except when explicitly noted otherwise, all return values are floats.\n",
    "\n",
    "* os -\n",
    "This module provides a portable way of using operating system dependent functionality. If you just want to read or write a file see open(), if you want to manipulate paths, see the os.path module, and if you want to read all the lines in all the files on the command line see the fileinput module. For creating temporary files and directories see the tempfile module, and for high-level file and directory handling see the shutil module.\n",
    "\n",
    "* re -\n",
    "This module provides regular expression matching operations similar to those found in Perl.\n",
    "\n",
    "Both patterns and strings to be searched can be Unicode strings (str) as well as 8-bit strings (bytes). However, Unicode strings and 8-bit strings cannot be mixed: that is, you cannot match a Unicode string with a byte pattern or vice-versa; similarly, when asking for a substitution, the replacement string must be of the same type as both the pattern and the search string.\n",
    "\n",
    "Regular expressions use the backslash character ('\\') to indicate special forms or to allow special characters to be used without invoking their special meaning. This collides with Python’s usage of the same character for the same purpose in string literals; for example, to match a literal backslash, one might have to write '\\\\\\\\' as the pattern string, because the regular expression must be \\\\, and each backslash must be expressed as \\\\ inside a regular Python string literal. Also, please note that any invalid escape sequences in Python’s usage of the backslash in string literals now generate a DeprecationWarning and in the future this will become a SyntaxError. This behaviour will happen even if it is a valid escape sequence for a regular expression.\n",
    "\n",
    "The solution is to use Python’s raw string notation for regular expression patterns; backslashes are not handled in any special way in a string literal prefixed with 'r'. So r\"\\n\" is a two-character string containing '\\' and 'n', while \"\\n\" is a one-character string containing a newline. Usually patterns will be expressed in Python code using this raw string notation.\n",
    "\n",
    "It is important to note that most regular expression operations are available as module-level functions and methods on compiled regular expressions. The functions are shortcuts that don’t require you to compile a regex object first, but miss some fine-tuning parameters\n",
    "\n",
    "* string -\n",
    "(There was no overall description, but the module contains a list of functions that process various strings in Python)\n",
    "\n",
    "* unittest -\n",
    "Supports test automation, sharing of setup and shutdown code for tests, aggregation of tests into collections, and independence of the tests from the reporting framework."
   ]
  },
  {
   "cell_type": "markdown",
   "id": "468d2538",
   "metadata": {
    "deletable": false,
    "editable": false,
    "nbgrader": {
     "cell_type": "markdown",
     "checksum": "4925e14d95e4b602c93f384a224e6015",
     "grade": false,
     "grade_id": "cell-56e32cad4a7a773f",
     "locked": true,
     "schema_version": 3,
     "solution": false,
     "task": false
    }
   },
   "source": [
    "Answer in the cell below.\n",
    "\n",
    "What is PyPI?"
   ]
  },
  {
   "cell_type": "markdown",
   "id": "b6640ceb",
   "metadata": {
    "deletable": false,
    "nbgrader": {
     "cell_type": "markdown",
     "checksum": "53e73b2030481e25a7840f6116955b9b",
     "grade": true,
     "grade_id": "cell-8356dde32ef2e195",
     "locked": false,
     "points": 1,
     "schema_version": 3,
     "solution": true,
     "task": false
    }
   },
   "source": [
    "YOUR ANSWER HERE\n",
    "From https://en.wikipedia.org/wiki/Python_Package_Index\n",
    "The Python Package Index, abbreviated as PyPI and also known as the Cheese Shop, is the official third-party software repository for Python. It is analogous to the CPAN repository for Perl and to the CRAN repository for R. PyPI is run by the Python Software Foundation, a charity."
   ]
  }
 ],
 "metadata": {
  "kernelspec": {
   "display_name": "Python 3.9.12 ('base')",
   "language": "python",
   "name": "python3"
  },
  "language_info": {
   "codemirror_mode": {
    "name": "ipython",
    "version": 3
   },
   "file_extension": ".py",
   "mimetype": "text/x-python",
   "name": "python",
   "nbconvert_exporter": "python",
   "pygments_lexer": "ipython3",
   "version": "3.9.12"
  },
  "vscode": {
   "interpreter": {
    "hash": "6eb9ec6dd6420e4689681982cbbb8d367726dd521c2e1e67d7a72ec359d6dc18"
   }
  }
 },
 "nbformat": 4,
 "nbformat_minor": 5
}
